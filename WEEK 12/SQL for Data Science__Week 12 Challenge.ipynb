{
 "cells": [
  {
   "cell_type": "markdown",
   "id": "aa050193",
   "metadata": {},
   "source": [
    "Question 1\n"
   ]
  },
  {
   "cell_type": "code",
   "execution_count": 4,
   "id": "f33262b4",
   "metadata": {},
   "outputs": [
    {
     "name": "stdout",
     "output_type": "stream",
     "text": [
      " MySQL Connector is Installed Successfully in your system environment\n"
     ]
    }
   ],
   "source": [
    "\n",
    "import mysql.connector\n",
    "\n",
    "print(\" MySQL Connector is Installed Successfully in your system environment\")"
   ]
  },
  {
   "cell_type": "code",
   "execution_count": null,
   "id": "8dd6631d",
   "metadata": {},
   "outputs": [],
   "source": [
    "\n",
    "print(\"Please Replace my password (abhishek7467kumar) with your\")"
   ]
  },
  {
   "cell_type": "markdown",
   "id": "8c481f51",
   "metadata": {},
   "source": [
    "Question 2"
   ]
  },
  {
   "cell_type": "code",
   "execution_count": 5,
   "id": "0c448e34",
   "metadata": {},
   "outputs": [
    {
     "name": "stdout",
     "output_type": "stream",
     "text": [
      "(\"b'mydata'\",)\n",
      "('employees',)\n",
      "('information_schema',)\n",
      "('mydata',)\n",
      "('mysql',)\n",
      "('performance_schema',)\n",
      "('sakila',)\n",
      "('sys',)\n",
      "('test',)\n",
      "('world',)\n",
      " \n",
      " \t \t \t \t************  \n",
      " Connected successfully with schema sakila through python MySQL Connector \n",
      " \t \t \t \t************ \n"
     ]
    }
   ],
   "source": [
    "# Connect with schema sakila through python MySQL Connector\n",
    "testdb=mysql.connector.connect(host=\"localhost\",user=\"root\",password=\"abhishek7467kumar\")\n",
    "testcursor=testdb.cursor()\n",
    "testcursor.execute(\"SHOW DATABASES\")\n",
    "for x in testcursor:\n",
    "    print(x)\n",
    "\n",
    "testdb=mysql.connector.connect(host=\"localhost\",user=\"root\",password=\"abhishek7467kumar\",database=\"sakila\")\n",
    "testcursor=testdb.cursor()\n",
    "print(\" \\n \\t \\t \\t \\t************  \\n Connected successfully with schema sakila through python MySQL Connector \\n \\t \\t \\t \\t************ \")    \n",
    "\n"
   ]
  },
  {
   "cell_type": "markdown",
   "id": "3ed49945",
   "metadata": {},
   "source": [
    "Question 3"
   ]
  },
  {
   "cell_type": "code",
   "execution_count": 6,
   "id": "c3d45d94",
   "metadata": {},
   "outputs": [
    {
     "name": "stdout",
     "output_type": "stream",
     "text": [
      "\n",
      " \n",
      " describe for table language  through python code  \n",
      " \n",
      "('language_id', b'tinyint unsigned', 'NO', 'PRI', None, 'auto_increment')\n",
      "('name', b'char(20)', 'NO', '', None, '')\n",
      "('last_update', b'timestamp', 'NO', '', b'CURRENT_TIMESTAMP', 'DEFAULT_GENERATED on update CURRENT_TIMESTAMP')\n",
      "\n",
      " \n",
      " describe for table rental  through python code  \n",
      " \n",
      "('rental_id', b'int', 'NO', 'PRI', None, 'auto_increment')\n",
      "('rental_date', b'datetime', 'NO', 'MUL', None, '')\n",
      "('inventory_id', b'mediumint unsigned', 'NO', 'MUL', None, '')\n",
      "('customer_id', b'smallint unsigned', 'NO', 'MUL', None, '')\n",
      "('return_date', b'datetime', 'YES', '', None, '')\n",
      "('staff_id', b'tinyint unsigned', 'NO', 'MUL', None, '')\n",
      "('last_update', b'timestamp', 'NO', '', b'CURRENT_TIMESTAMP', 'DEFAULT_GENERATED on update CURRENT_TIMESTAMP')\n"
     ]
    }
   ],
   "source": [
    "# Run describe command for table language and rental through python code\n",
    "\n",
    "\n",
    "testdb=mysql.connector.connect(host=\"localhost\",user=\"root\",password=\"abhishek7467kumar\",database=\"sakila\")\n",
    "testcursor=testdb.cursor()\n",
    "testcursor.execute(\"desc language\")\n",
    "print(\"\\n \\n describe for table language  through python code  \\n \")\n",
    "for d in testcursor:\n",
    "    print(d)\n",
    " \n",
    "\n",
    "\n",
    "\n",
    "testcursor.execute(\"desc rental\")\n",
    "print(\"\\n \\n describe for table rental  through python code  \\n \")\n",
    "for d in testcursor:\n",
    "    print(d)\n",
    "    \n",
    "    \n",
    "    "
   ]
  },
  {
   "cell_type": "markdown",
   "id": "65a7e137",
   "metadata": {},
   "source": [
    "Question 4"
   ]
  },
  {
   "cell_type": "code",
   "execution_count": null,
   "id": "f65c9e67",
   "metadata": {},
   "outputs": [],
   "source": [
    "# Write code to display result set from three tables store, inventory and film_text using inner join through python.\n",
    "\n",
    "testdb=mysql.connector.connect(host=\"localhost\",user=\"root\",password=\"abhishek7467kumar\",database=\"sakila\")\n",
    "testcursor=testdb.cursor()\n",
    "\n",
    "testcursor.execute(\"SELECT ST.store_id , ST.manager_staff_id , ST.address_id, IV.inventory_id ,IV.film_id,FT.title from store ST inner join inventory IV on ST.store_id=IV.store_id inner join film_text FT on IV.film_id=FT.film_id order by store_id desc\")\n",
    "\n",
    "a=testcursor.fetchall()\n",
    "for i in a:\n",
    "    print(a)\n",
    "\n",
    "\n"
   ]
  },
  {
   "cell_type": "code",
   "execution_count": null,
   "id": "b8bd16cb",
   "metadata": {},
   "outputs": [],
   "source": []
  },
  {
   "cell_type": "code",
   "execution_count": null,
   "id": "8534c750",
   "metadata": {},
   "outputs": [],
   "source": []
  },
  {
   "cell_type": "code",
   "execution_count": null,
   "id": "9f50434f",
   "metadata": {},
   "outputs": [],
   "source": []
  },
  {
   "cell_type": "code",
   "execution_count": null,
   "id": "4ec3d279",
   "metadata": {},
   "outputs": [],
   "source": []
  }
 ],
 "metadata": {
  "kernelspec": {
   "display_name": "Python 3.9.7 64-bit",
   "language": "python",
   "name": "python3"
  },
  "language_info": {
   "codemirror_mode": {
    "name": "ipython",
    "version": 3
   },
   "file_extension": ".py",
   "mimetype": "text/x-python",
   "name": "python",
   "nbconvert_exporter": "python",
   "pygments_lexer": "ipython3",
   "version": "3.9.7"
  },
  "vscode": {
   "interpreter": {
    "hash": "c25b5195c020dd2b80e3f02c64d911a3e3cde8b12100cfd5f766a5948af0979e"
   }
  }
 },
 "nbformat": 4,
 "nbformat_minor": 5
}
