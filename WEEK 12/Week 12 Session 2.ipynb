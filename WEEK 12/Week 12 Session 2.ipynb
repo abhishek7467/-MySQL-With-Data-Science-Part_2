{
 "cells": [
  {
   "cell_type": "code",
   "execution_count": 14,
   "metadata": {},
   "outputs": [],
   "source": [
    "import mysql.connector"
   ]
  },
  {
   "cell_type": "code",
   "execution_count": 15,
   "metadata": {},
   "outputs": [],
   "source": [
    "testdb = mysql.connector.connect( host = \"localhost\", \n",
    "user =\"root\",\n",
    "password=\"abhishek7467kumar\")"
   ]
  },
  {
   "cell_type": "code",
   "execution_count": 16,
   "metadata": {},
   "outputs": [
    {
     "name": "stdout",
     "output_type": "stream",
     "text": [
      "Name of Databases preasent in my database\n",
      "(\"b'mydata'\",)\n",
      "('employees',)\n",
      "('information_schema',)\n",
      "('mydata',)\n",
      "('mysql',)\n",
      "('performance_schema',)\n",
      "('sakila',)\n",
      "('sys',)\n",
      "('test',)\n",
      "('world',)\n"
     ]
    }
   ],
   "source": [
    "print(\"Name of Databases preasent in my database\")\n",
    "testcursor = testdb.cursor()\n",
    "testcursor.execute(\"SHOW DATABASES\")\n",
    "for x in testcursor:\n",
    "    print(x)"
   ]
  },
  {
   "cell_type": "code",
   "execution_count": 17,
   "metadata": {},
   "outputs": [
    {
     "name": "stdout",
     "output_type": "stream",
     "text": [
      "(\"b'mydata'\",)\n",
      "('employees',)\n",
      "('information_schema',)\n",
      "('mydata',)\n",
      "('mysql',)\n",
      "('performance_schema',)\n",
      "('sakila',)\n",
      "('sys',)\n",
      "('test',)\n",
      "('world',)\n"
     ]
    }
   ],
   "source": [
    "testcursor.execute(\"CREATE DATABASE IF NOT EXISTS  test \")\n",
    "testcursor.execute(\"SHOW DATABASES\")\n",
    "for x in testcursor:\n",
    "    print(x)"
   ]
  },
  {
   "cell_type": "code",
   "execution_count": 18,
   "metadata": {},
   "outputs": [],
   "source": [
    "testdb = mysql.connector.connect( host = \"localhost\", \n",
    "user =\"root\",\n",
    "password=\"abhishek7467kumar\",\n",
    "database=\"test\")"
   ]
  },
  {
   "cell_type": "code",
   "execution_count": 19,
   "metadata": {},
   "outputs": [],
   "source": [
    "testdb = mysql.connector.connect( host = \"localhost\", \n",
    "user =\"root\",\n",
    "password=\"abhishek7467kumar\",\n",
    "database=\"test\")\n",
    "testcursor=testdb.cursor() \n",
    "testcursor.execute(\"CREATE TABLE IF NOT EXISTS myalumni (roll_no int not null,first_name varchar(30), last_name varchar(30), status varchar(50), location varchar(100) )\" ) \n",
    "\n"
   ]
  },
  {
   "cell_type": "code",
   "execution_count": 20,
   "metadata": {},
   "outputs": [
    {
     "name": "stdout",
     "output_type": "stream",
     "text": [
      "('myalumni',)\n"
     ]
    }
   ],
   "source": [
    "\n",
    "testcursor.execute(\"SHOW Tables\")\n",
    "for t in testcursor:\n",
    "    print(t)"
   ]
  },
  {
   "cell_type": "code",
   "execution_count": 21,
   "metadata": {},
   "outputs": [
    {
     "ename": "ProgrammingError",
     "evalue": "1060 (42S21): Duplicate column name 'test_id'",
     "output_type": "error",
     "traceback": [
      "\u001b[1;31m---------------------------------------------------------------------------\u001b[0m",
      "\u001b[1;31mMySQLInterfaceError\u001b[0m                       Traceback (most recent call last)",
      "File \u001b[1;32mc:\\Users\\ssd\\AppData\\Local\\Programs\\Python\\Python39\\lib\\site-packages\\mysql\\connector\\connection_cext.py:555\u001b[0m, in \u001b[0;36mCMySQLConnection.cmd_query\u001b[1;34m(self, query, raw, buffered, raw_as_string)\u001b[0m\n\u001b[0;32m    554\u001b[0m         query \u001b[39m=\u001b[39m query\u001b[39m.\u001b[39mencode(\u001b[39m\"\u001b[39m\u001b[39mutf-8\u001b[39m\u001b[39m\"\u001b[39m)\n\u001b[1;32m--> 555\u001b[0m     \u001b[39mself\u001b[39;49m\u001b[39m.\u001b[39;49m_cmysql\u001b[39m.\u001b[39;49mquery(\n\u001b[0;32m    556\u001b[0m         query,\n\u001b[0;32m    557\u001b[0m         raw\u001b[39m=\u001b[39;49mraw,\n\u001b[0;32m    558\u001b[0m         buffered\u001b[39m=\u001b[39;49mbuffered,\n\u001b[0;32m    559\u001b[0m         raw_as_string\u001b[39m=\u001b[39;49mraw_as_string,\n\u001b[0;32m    560\u001b[0m         query_attrs\u001b[39m=\u001b[39;49m\u001b[39mself\u001b[39;49m\u001b[39m.\u001b[39;49m_query_attrs,\n\u001b[0;32m    561\u001b[0m     )\n\u001b[0;32m    562\u001b[0m \u001b[39mexcept\u001b[39;00m MySQLInterfaceError \u001b[39mas\u001b[39;00m err:\n",
      "\u001b[1;31mMySQLInterfaceError\u001b[0m: Duplicate column name 'test_id'",
      "\nThe above exception was the direct cause of the following exception:\n",
      "\u001b[1;31mProgrammingError\u001b[0m                          Traceback (most recent call last)",
      "\u001b[1;32md:\\My All Programming With VS Code\\Temp\\Skill Lync\\My SQL With Data Science\\Week 12 Session 2.ipynb Cell 8\u001b[0m in \u001b[0;36m<cell line: 1>\u001b[1;34m()\u001b[0m\n\u001b[1;32m----> <a href='vscode-notebook-cell:/d%3A/My%20All%20Programming%20With%20VS%20Code/Temp/Skill%20Lync/My%20SQL%20With%20Data%20Science/Week%2012%20Session%202.ipynb#X10sZmlsZQ%3D%3D?line=0'>1</a>\u001b[0m testcursor\u001b[39m.\u001b[39;49mexecute(\u001b[39m\"\u001b[39;49m\u001b[39mALTER TABLE myalumni ADD COLUMN test_id int not null primary key \u001b[39;49m\u001b[39m\"\u001b[39;49m)\n",
      "File \u001b[1;32mc:\\Users\\ssd\\AppData\\Local\\Programs\\Python\\Python39\\lib\\site-packages\\mysql\\connector\\cursor_cext.py:276\u001b[0m, in \u001b[0;36mCMySQLCursor.execute\u001b[1;34m(self, operation, params, multi)\u001b[0m\n\u001b[0;32m    271\u001b[0m             \u001b[39mraise\u001b[39;00m ProgrammingError(\n\u001b[0;32m    272\u001b[0m                 \u001b[39m\"\u001b[39m\u001b[39mNot all parameters were used in the SQL statement\u001b[39m\u001b[39m\"\u001b[39m\n\u001b[0;32m    273\u001b[0m             )\n\u001b[0;32m    275\u001b[0m \u001b[39mtry\u001b[39;00m:\n\u001b[1;32m--> 276\u001b[0m     result \u001b[39m=\u001b[39m \u001b[39mself\u001b[39;49m\u001b[39m.\u001b[39;49m_cnx\u001b[39m.\u001b[39;49mcmd_query(\n\u001b[0;32m    277\u001b[0m         stmt,\n\u001b[0;32m    278\u001b[0m         raw\u001b[39m=\u001b[39;49m\u001b[39mself\u001b[39;49m\u001b[39m.\u001b[39;49m_raw,\n\u001b[0;32m    279\u001b[0m         buffered\u001b[39m=\u001b[39;49m\u001b[39mself\u001b[39;49m\u001b[39m.\u001b[39;49m_buffered,\n\u001b[0;32m    280\u001b[0m         raw_as_string\u001b[39m=\u001b[39;49m\u001b[39mself\u001b[39;49m\u001b[39m.\u001b[39;49m_raw_as_string,\n\u001b[0;32m    281\u001b[0m     )\n\u001b[0;32m    282\u001b[0m \u001b[39mexcept\u001b[39;00m MySQLInterfaceError \u001b[39mas\u001b[39;00m err:\n\u001b[0;32m    283\u001b[0m     \u001b[39mraise\u001b[39;00m get_mysql_exception(\n\u001b[0;32m    284\u001b[0m         msg\u001b[39m=\u001b[39merr\u001b[39m.\u001b[39mmsg, errno\u001b[39m=\u001b[39merr\u001b[39m.\u001b[39merrno, sqlstate\u001b[39m=\u001b[39merr\u001b[39m.\u001b[39msqlstate\n\u001b[0;32m    285\u001b[0m     ) \u001b[39mfrom\u001b[39;00m \u001b[39merr\u001b[39;00m\n",
      "File \u001b[1;32mc:\\Users\\ssd\\AppData\\Local\\Programs\\Python\\Python39\\lib\\site-packages\\mysql\\connector\\connection_cext.py:563\u001b[0m, in \u001b[0;36mCMySQLConnection.cmd_query\u001b[1;34m(self, query, raw, buffered, raw_as_string)\u001b[0m\n\u001b[0;32m    555\u001b[0m     \u001b[39mself\u001b[39m\u001b[39m.\u001b[39m_cmysql\u001b[39m.\u001b[39mquery(\n\u001b[0;32m    556\u001b[0m         query,\n\u001b[0;32m    557\u001b[0m         raw\u001b[39m=\u001b[39mraw,\n\u001b[1;32m   (...)\u001b[0m\n\u001b[0;32m    560\u001b[0m         query_attrs\u001b[39m=\u001b[39m\u001b[39mself\u001b[39m\u001b[39m.\u001b[39m_query_attrs,\n\u001b[0;32m    561\u001b[0m     )\n\u001b[0;32m    562\u001b[0m \u001b[39mexcept\u001b[39;00m MySQLInterfaceError \u001b[39mas\u001b[39;00m err:\n\u001b[1;32m--> 563\u001b[0m     \u001b[39mraise\u001b[39;00m get_mysql_exception(\n\u001b[0;32m    564\u001b[0m         err\u001b[39m.\u001b[39merrno, msg\u001b[39m=\u001b[39merr\u001b[39m.\u001b[39mmsg, sqlstate\u001b[39m=\u001b[39merr\u001b[39m.\u001b[39msqlstate\n\u001b[0;32m    565\u001b[0m     ) \u001b[39mfrom\u001b[39;00m \u001b[39merr\u001b[39;00m\n\u001b[0;32m    566\u001b[0m \u001b[39mexcept\u001b[39;00m \u001b[39mAttributeError\u001b[39;00m \u001b[39mas\u001b[39;00m err:\n\u001b[0;32m    567\u001b[0m     addr \u001b[39m=\u001b[39m (\n\u001b[0;32m    568\u001b[0m         \u001b[39mself\u001b[39m\u001b[39m.\u001b[39m_unix_socket \u001b[39mif\u001b[39;00m \u001b[39mself\u001b[39m\u001b[39m.\u001b[39m_unix_socket \u001b[39melse\u001b[39;00m \u001b[39mf\u001b[39m\u001b[39m\"\u001b[39m\u001b[39m{\u001b[39;00m\u001b[39mself\u001b[39m\u001b[39m.\u001b[39m_host\u001b[39m}\u001b[39;00m\u001b[39m:\u001b[39m\u001b[39m{\u001b[39;00m\u001b[39mself\u001b[39m\u001b[39m.\u001b[39m_port\u001b[39m}\u001b[39;00m\u001b[39m\"\u001b[39m\n\u001b[0;32m    569\u001b[0m     )\n",
      "\u001b[1;31mProgrammingError\u001b[0m: 1060 (42S21): Duplicate column name 'test_id'"
     ]
    }
   ],
   "source": [
    "testcursor.execute(\"ALTER TABLE myalumni ADD COLUMN test_id int not null primary key \")\n"
   ]
  },
  {
   "cell_type": "code",
   "execution_count": null,
   "metadata": {},
   "outputs": [
    {
     "name": "stdout",
     "output_type": "stream",
     "text": [
      "('roll_no', b'int', 'NO', '', None, '')\n",
      "('first_name', b'varchar(30)', 'YES', '', None, '')\n",
      "('last_name', b'varchar(30)', 'YES', '', None, '')\n",
      "('status', b'varchar(50)', 'YES', '', None, '')\n",
      "('location', b'varchar(100)', 'YES', '', None, '')\n",
      "('test_id', b'int', 'NO', 'PRI', None, '')\n"
     ]
    }
   ],
   "source": [
    "testdb = mysql.connector.connect( host = \"localhost\", \n",
    "user =\"root\",\n",
    "password=\"abhishek7467kumar\",\n",
    "database=\"test\")\n",
    "\n",
    "testcursor = testdb.cursor()\n",
    "testcursor.execute(\"DESC  myalumni\")\n",
    "for a in testcursor:\n",
    "    print(a)"
   ]
  },
  {
   "cell_type": "code",
   "execution_count": null,
   "metadata": {},
   "outputs": [
    {
     "name": "stdout",
     "output_type": "stream",
     "text": [
      "(120, 'Abhi', 'Kumar', 'Teacher', 'Bareilly', 1)\n",
      "(121, 'Jhon', 'Anthony', 'Self Employed', 'Noida', 12)\n",
      "(122, 'Ridhi', 'Jaiswal', 'Self Emp', 'barabanki', 34)\n",
      "(126, 'Kanchan', 'Kumari', 'Teacher', 'Bly', 51)\n",
      "(124, 'Ankit', 'Kumar', 'Job', 'Lucknow', 54)\n",
      "(128, 'Yogesh', 'Bharti', 'Teacher', 'Sahajanpur', 76)\n"
     ]
    }
   ],
   "source": [
    "testdb = mysql.connector.connect( host = \"localhost\", \n",
    "user =\"root\",\n",
    "password=\"abhishek7467kumar\",\n",
    "database=\"test\")\n",
    "\n",
    "testcursor = testdb.cursor()\n",
    "\n",
    "testcursor.execute(\"SELECT * FROM myalumni\")\n",
    "for a in testcursor:\n",
    "    print(a)\n"
   ]
  },
  {
   "cell_type": "code",
   "execution_count": null,
   "metadata": {},
   "outputs": [
    {
     "ename": "IntegrityError",
     "evalue": "1062 (23000): Duplicate entry '12' for key 'myalumni.PRIMARY'",
     "output_type": "error",
     "traceback": [
      "\u001b[1;31m---------------------------------------------------------------------------\u001b[0m",
      "\u001b[1;31mMySQLInterfaceError\u001b[0m                       Traceback (most recent call last)",
      "File \u001b[1;32mc:\\Users\\ssd\\AppData\\Local\\Programs\\Python\\Python39\\lib\\site-packages\\mysql\\connector\\connection_cext.py:555\u001b[0m, in \u001b[0;36mCMySQLConnection.cmd_query\u001b[1;34m(self, query, raw, buffered, raw_as_string)\u001b[0m\n\u001b[0;32m    554\u001b[0m         query \u001b[39m=\u001b[39m query\u001b[39m.\u001b[39mencode(\u001b[39m\"\u001b[39m\u001b[39mutf-8\u001b[39m\u001b[39m\"\u001b[39m)\n\u001b[1;32m--> 555\u001b[0m     \u001b[39mself\u001b[39;49m\u001b[39m.\u001b[39;49m_cmysql\u001b[39m.\u001b[39;49mquery(\n\u001b[0;32m    556\u001b[0m         query,\n\u001b[0;32m    557\u001b[0m         raw\u001b[39m=\u001b[39;49mraw,\n\u001b[0;32m    558\u001b[0m         buffered\u001b[39m=\u001b[39;49mbuffered,\n\u001b[0;32m    559\u001b[0m         raw_as_string\u001b[39m=\u001b[39;49mraw_as_string,\n\u001b[0;32m    560\u001b[0m         query_attrs\u001b[39m=\u001b[39;49m\u001b[39mself\u001b[39;49m\u001b[39m.\u001b[39;49m_query_attrs,\n\u001b[0;32m    561\u001b[0m     )\n\u001b[0;32m    562\u001b[0m \u001b[39mexcept\u001b[39;00m MySQLInterfaceError \u001b[39mas\u001b[39;00m err:\n",
      "\u001b[1;31mMySQLInterfaceError\u001b[0m: Duplicate entry '12' for key 'myalumni.PRIMARY'",
      "\nThe above exception was the direct cause of the following exception:\n",
      "\u001b[1;31mIntegrityError\u001b[0m                            Traceback (most recent call last)",
      "\u001b[1;32md:\\My All Programming With VS Code\\Temp\\Skill Lync\\My SQL With Data Science\\Week 12 Session 2.ipynb Cell 11\u001b[0m in \u001b[0;36m<cell line: 4>\u001b[1;34m()\u001b[0m\n\u001b[0;32m      <a href='vscode-notebook-cell:/d%3A/My%20All%20Programming%20With%20VS%20Code/Temp/Skill%20Lync/My%20SQL%20With%20Data%20Science/Week%2012%20Session%202.ipynb#X13sZmlsZQ%3D%3D?line=0'>1</a>\u001b[0m a\u001b[39m=\u001b[39m\u001b[39m\"\u001b[39m\u001b[39minsert into myalumni (roll_no, first_name, last_name,status, location,test_id) values(\u001b[39m\u001b[39m%s\u001b[39;00m\u001b[39m , \u001b[39m\u001b[39m%s\u001b[39;00m\u001b[39m,\u001b[39m\u001b[39m%s\u001b[39;00m\u001b[39m,\u001b[39m\u001b[39m%s\u001b[39;00m\u001b[39m,\u001b[39m\u001b[39m%s\u001b[39;00m\u001b[39m,\u001b[39m\u001b[39m%s\u001b[39;00m\u001b[39m)\u001b[39m\u001b[39m\"\u001b[39m\n\u001b[0;32m      <a href='vscode-notebook-cell:/d%3A/My%20All%20Programming%20With%20VS%20Code/Temp/Skill%20Lync/My%20SQL%20With%20Data%20Science/Week%2012%20Session%202.ipynb#X13sZmlsZQ%3D%3D?line=2'>3</a>\u001b[0m b\u001b[39m=\u001b[39m (\u001b[39m121\u001b[39m,\u001b[39m\"\u001b[39m\u001b[39mJhon\u001b[39m\u001b[39m\"\u001b[39m,\u001b[39m\"\u001b[39m\u001b[39mAnthony\u001b[39m\u001b[39m\"\u001b[39m,\u001b[39m\"\u001b[39m\u001b[39mSelf Employed\u001b[39m\u001b[39m\"\u001b[39m,\u001b[39m\"\u001b[39m\u001b[39mNoida\u001b[39m\u001b[39m\"\u001b[39m,\u001b[39m12\u001b[39m )\n\u001b[1;32m----> <a href='vscode-notebook-cell:/d%3A/My%20All%20Programming%20With%20VS%20Code/Temp/Skill%20Lync/My%20SQL%20With%20Data%20Science/Week%2012%20Session%202.ipynb#X13sZmlsZQ%3D%3D?line=3'>4</a>\u001b[0m testcursor\u001b[39m.\u001b[39;49mexecute(a,b)\n",
      "File \u001b[1;32mc:\\Users\\ssd\\AppData\\Local\\Programs\\Python\\Python39\\lib\\site-packages\\mysql\\connector\\cursor_cext.py:276\u001b[0m, in \u001b[0;36mCMySQLCursor.execute\u001b[1;34m(self, operation, params, multi)\u001b[0m\n\u001b[0;32m    271\u001b[0m             \u001b[39mraise\u001b[39;00m ProgrammingError(\n\u001b[0;32m    272\u001b[0m                 \u001b[39m\"\u001b[39m\u001b[39mNot all parameters were used in the SQL statement\u001b[39m\u001b[39m\"\u001b[39m\n\u001b[0;32m    273\u001b[0m             )\n\u001b[0;32m    275\u001b[0m \u001b[39mtry\u001b[39;00m:\n\u001b[1;32m--> 276\u001b[0m     result \u001b[39m=\u001b[39m \u001b[39mself\u001b[39;49m\u001b[39m.\u001b[39;49m_cnx\u001b[39m.\u001b[39;49mcmd_query(\n\u001b[0;32m    277\u001b[0m         stmt,\n\u001b[0;32m    278\u001b[0m         raw\u001b[39m=\u001b[39;49m\u001b[39mself\u001b[39;49m\u001b[39m.\u001b[39;49m_raw,\n\u001b[0;32m    279\u001b[0m         buffered\u001b[39m=\u001b[39;49m\u001b[39mself\u001b[39;49m\u001b[39m.\u001b[39;49m_buffered,\n\u001b[0;32m    280\u001b[0m         raw_as_string\u001b[39m=\u001b[39;49m\u001b[39mself\u001b[39;49m\u001b[39m.\u001b[39;49m_raw_as_string,\n\u001b[0;32m    281\u001b[0m     )\n\u001b[0;32m    282\u001b[0m \u001b[39mexcept\u001b[39;00m MySQLInterfaceError \u001b[39mas\u001b[39;00m err:\n\u001b[0;32m    283\u001b[0m     \u001b[39mraise\u001b[39;00m get_mysql_exception(\n\u001b[0;32m    284\u001b[0m         msg\u001b[39m=\u001b[39merr\u001b[39m.\u001b[39mmsg, errno\u001b[39m=\u001b[39merr\u001b[39m.\u001b[39merrno, sqlstate\u001b[39m=\u001b[39merr\u001b[39m.\u001b[39msqlstate\n\u001b[0;32m    285\u001b[0m     ) \u001b[39mfrom\u001b[39;00m \u001b[39merr\u001b[39;00m\n",
      "File \u001b[1;32mc:\\Users\\ssd\\AppData\\Local\\Programs\\Python\\Python39\\lib\\site-packages\\mysql\\connector\\connection_cext.py:563\u001b[0m, in \u001b[0;36mCMySQLConnection.cmd_query\u001b[1;34m(self, query, raw, buffered, raw_as_string)\u001b[0m\n\u001b[0;32m    555\u001b[0m     \u001b[39mself\u001b[39m\u001b[39m.\u001b[39m_cmysql\u001b[39m.\u001b[39mquery(\n\u001b[0;32m    556\u001b[0m         query,\n\u001b[0;32m    557\u001b[0m         raw\u001b[39m=\u001b[39mraw,\n\u001b[1;32m   (...)\u001b[0m\n\u001b[0;32m    560\u001b[0m         query_attrs\u001b[39m=\u001b[39m\u001b[39mself\u001b[39m\u001b[39m.\u001b[39m_query_attrs,\n\u001b[0;32m    561\u001b[0m     )\n\u001b[0;32m    562\u001b[0m \u001b[39mexcept\u001b[39;00m MySQLInterfaceError \u001b[39mas\u001b[39;00m err:\n\u001b[1;32m--> 563\u001b[0m     \u001b[39mraise\u001b[39;00m get_mysql_exception(\n\u001b[0;32m    564\u001b[0m         err\u001b[39m.\u001b[39merrno, msg\u001b[39m=\u001b[39merr\u001b[39m.\u001b[39mmsg, sqlstate\u001b[39m=\u001b[39merr\u001b[39m.\u001b[39msqlstate\n\u001b[0;32m    565\u001b[0m     ) \u001b[39mfrom\u001b[39;00m \u001b[39merr\u001b[39;00m\n\u001b[0;32m    566\u001b[0m \u001b[39mexcept\u001b[39;00m \u001b[39mAttributeError\u001b[39;00m \u001b[39mas\u001b[39;00m err:\n\u001b[0;32m    567\u001b[0m     addr \u001b[39m=\u001b[39m (\n\u001b[0;32m    568\u001b[0m         \u001b[39mself\u001b[39m\u001b[39m.\u001b[39m_unix_socket \u001b[39mif\u001b[39;00m \u001b[39mself\u001b[39m\u001b[39m.\u001b[39m_unix_socket \u001b[39melse\u001b[39;00m \u001b[39mf\u001b[39m\u001b[39m\"\u001b[39m\u001b[39m{\u001b[39;00m\u001b[39mself\u001b[39m\u001b[39m.\u001b[39m_host\u001b[39m}\u001b[39;00m\u001b[39m:\u001b[39m\u001b[39m{\u001b[39;00m\u001b[39mself\u001b[39m\u001b[39m.\u001b[39m_port\u001b[39m}\u001b[39;00m\u001b[39m\"\u001b[39m\n\u001b[0;32m    569\u001b[0m     )\n",
      "\u001b[1;31mIntegrityError\u001b[0m: 1062 (23000): Duplicate entry '12' for key 'myalumni.PRIMARY'"
     ]
    }
   ],
   "source": [
    "a=\"insert into myalumni (roll_no, first_name, last_name,status, location,test_id) values(%s , %s,%s,%s,%s,%s)\"\n",
    "\n",
    "b= (121,\"Jhon\",\"Anthony\",\"Self Employed\",\"Noida\",12 )\n",
    "testcursor.execute(a,b)\n",
    "\n"
   ]
  },
  {
   "cell_type": "code",
   "execution_count": null,
   "metadata": {},
   "outputs": [
    {
     "name": "stdout",
     "output_type": "stream",
     "text": [
      "Data is inserted successfully into database\n"
     ]
    }
   ],
   "source": [
    "testdb.commit()\n",
    "\n",
    "print(\"Data is inserted successfully into database\")\n"
   ]
  },
  {
   "cell_type": "code",
   "execution_count": null,
   "metadata": {},
   "outputs": [
    {
     "name": "stdout",
     "output_type": "stream",
     "text": [
      "(121, 'Jhon', 'Anthony', 'Self Employed', 'Noida', 12)\n"
     ]
    }
   ],
   "source": [
    "\n",
    "testcursor.execute(\"SELECT * FROM myalumni\")\n",
    "for a in testcursor:\n",
    "    print(a)"
   ]
  },
  {
   "cell_type": "code",
   "execution_count": null,
   "metadata": {},
   "outputs": [],
   "source": [
    "\n",
    "# c=[\n",
    "#     (120,\"Abhi\",\"Kumar\",\"Teacher\",\"Bareilly\",1),\n",
    "#     (122,\"Ridhi\",\"Jaiswal\",\"Self Emp\",\"barabanki\",34),\n",
    "#     (124,\"Ankit\",\"Kumar\",\"Job\",\"Lucknow\",54),\n",
    "#     (126,\"Kanchan\",\"Kumari\",\"Teacher\",\"Bly\",51),\n",
    "#     (128,\"Yogesh\",\"Bharti\",\"Teacher\",\"Sahajanpur\",76)\n",
    "#     ]\n",
    "\n",
    "c=    (122,\"Ridhi\",\"Jaiswal\",\"Self Emp\",\"barabanki\",34)\n",
    "testcursor.execute(a,c)\n",
    "testdb.commit()\n",
    "print(\"Data is inserted successfully into database\")\n",
    "\n",
    "\n",
    "\n"
   ]
  },
  {
   "cell_type": "code",
   "execution_count": null,
   "metadata": {},
   "outputs": [
    {
     "name": "stdout",
     "output_type": "stream",
     "text": [
      "(120, 'Abhi', 'Kumar', 'Teacher', 'Bareilly', 1)\n",
      "(121, 'Jhon', 'Anthony', 'Self Employed', 'Noida', 12)\n",
      "(122, 'Ridhi', 'Jaiswal', 'Self Emp', 'barabanki', 34)\n",
      "(126, 'Kanchan', 'Kumari', 'Teacher', 'Bly', 51)\n",
      "(124, 'Ankit', 'Kumar', 'Job', 'Lucknow', 54)\n",
      "(128, 'Yogesh', 'Bharti', 'Teacher', 'Sahajanpur', 76)\n"
     ]
    }
   ],
   "source": [
    "testcursor.execute(\"SELECT * FROM myalumni\")\n",
    "a=testcursor.fetchall()\n",
    "\n",
    "for b in a:\n",
    "    print(b)"
   ]
  },
  {
   "cell_type": "code",
   "execution_count": null,
   "metadata": {},
   "outputs": [
    {
     "name": "stdout",
     "output_type": "stream",
     "text": [
      "The type of b\n"
     ]
    },
    {
     "data": {
      "text/plain": [
       "tuple"
      ]
     },
     "execution_count": 29,
     "metadata": {},
     "output_type": "execute_result"
    }
   ],
   "source": [
    "print(\"The type of b\")\n",
    "type(b)"
   ]
  },
  {
   "cell_type": "code",
   "execution_count": null,
   "metadata": {},
   "outputs": [],
   "source": [
    "l1=[10,20,30,40]\n",
    "l2=[50,60,70,80]"
   ]
  },
  {
   "cell_type": "code",
   "execution_count": null,
   "metadata": {},
   "outputs": [],
   "source": [
    "import statistics as st"
   ]
  },
  {
   "cell_type": "code",
   "execution_count": null,
   "metadata": {},
   "outputs": [
    {
     "data": {
      "text/plain": [
       "25"
      ]
     },
     "execution_count": 7,
     "metadata": {},
     "output_type": "execute_result"
    }
   ],
   "source": [
    "y=st.mean(l1)\n",
    "y"
   ]
  },
  {
   "cell_type": "code",
   "execution_count": null,
   "metadata": {},
   "outputs": [
    {
     "data": {
      "text/plain": [
       "10"
      ]
     },
     "execution_count": 8,
     "metadata": {},
     "output_type": "execute_result"
    }
   ],
   "source": [
    "y=st.mode(l1)\n",
    "y"
   ]
  },
  {
   "cell_type": "code",
   "execution_count": null,
   "metadata": {},
   "outputs": [
    {
     "data": {
      "text/plain": [
       "25.0"
      ]
     },
     "execution_count": 11,
     "metadata": {},
     "output_type": "execute_result"
    }
   ],
   "source": [
    "y=st.median(l1)\n",
    "y"
   ]
  },
  {
   "cell_type": "code",
   "execution_count": null,
   "metadata": {},
   "outputs": [
    {
     "data": {
      "text/plain": [
       "float"
      ]
     },
     "execution_count": 13,
     "metadata": {},
     "output_type": "execute_result"
    }
   ],
   "source": [
    "type (y)"
   ]
  },
  {
   "cell_type": "code",
   "execution_count": 24,
   "metadata": {},
   "outputs": [
    {
     "ename": "TypeError",
     "evalue": "'NoneType' object is not iterable",
     "output_type": "error",
     "traceback": [
      "\u001b[1;31m---------------------------------------------------------------------------\u001b[0m",
      "\u001b[1;31mTypeError\u001b[0m                                 Traceback (most recent call last)",
      "\u001b[1;32md:\\My All Programming With VS Code\\Temp\\Skill Lync\\My SQL With Data Science\\Week 12 Session 2.ipynb Cell 23\u001b[0m in \u001b[0;36m<cell line: 6>\u001b[1;34m()\u001b[0m\n\u001b[0;32m      <a href='vscode-notebook-cell:/d%3A/My%20All%20Programming%20With%20VS%20Code/Temp/Skill%20Lync/My%20SQL%20With%20Data%20Science/Week%2012%20Session%202.ipynb#X31sZmlsZQ%3D%3D?line=1'>2</a>\u001b[0m testdb \u001b[39m=\u001b[39m mysql\u001b[39m.\u001b[39mconnector\u001b[39m.\u001b[39mconnect(host\u001b[39m=\u001b[39m\u001b[39m\"\u001b[39m\u001b[39mlocalhost\u001b[39m\u001b[39m\"\u001b[39m,user \u001b[39m=\u001b[39m \u001b[39m\"\u001b[39m\u001b[39mroot\u001b[39m\u001b[39m\"\u001b[39m,\n\u001b[0;32m      <a href='vscode-notebook-cell:/d%3A/My%20All%20Programming%20With%20VS%20Code/Temp/Skill%20Lync/My%20SQL%20With%20Data%20Science/Week%2012%20Session%202.ipynb#X31sZmlsZQ%3D%3D?line=2'>3</a>\u001b[0m password\u001b[39m=\u001b[39m\u001b[39m\"\u001b[39m\u001b[39mabhishek7467kumar\u001b[39m\u001b[39m\"\u001b[39m,\n\u001b[0;32m      <a href='vscode-notebook-cell:/d%3A/My%20All%20Programming%20With%20VS%20Code/Temp/Skill%20Lync/My%20SQL%20With%20Data%20Science/Week%2012%20Session%202.ipynb#X31sZmlsZQ%3D%3D?line=3'>4</a>\u001b[0m database\u001b[39m=\u001b[39m\u001b[39m\"\u001b[39m\u001b[39mtest\u001b[39m\u001b[39m\"\u001b[39m)\n\u001b[0;32m      <a href='vscode-notebook-cell:/d%3A/My%20All%20Programming%20With%20VS%20Code/Temp/Skill%20Lync/My%20SQL%20With%20Data%20Science/Week%2012%20Session%202.ipynb#X31sZmlsZQ%3D%3D?line=4'>5</a>\u001b[0m a\u001b[39m=\u001b[39m testcursor\u001b[39m.\u001b[39mfetchone()\n\u001b[1;32m----> <a href='vscode-notebook-cell:/d%3A/My%20All%20Programming%20With%20VS%20Code/Temp/Skill%20Lync/My%20SQL%20With%20Data%20Science/Week%2012%20Session%202.ipynb#X31sZmlsZQ%3D%3D?line=5'>6</a>\u001b[0m \u001b[39mfor\u001b[39;00m b \u001b[39min\u001b[39;00m a:\n\u001b[0;32m      <a href='vscode-notebook-cell:/d%3A/My%20All%20Programming%20With%20VS%20Code/Temp/Skill%20Lync/My%20SQL%20With%20Data%20Science/Week%2012%20Session%202.ipynb#X31sZmlsZQ%3D%3D?line=6'>7</a>\u001b[0m     \u001b[39mprint\u001b[39m(b)\n",
      "\u001b[1;31mTypeError\u001b[0m: 'NoneType' object is not iterable"
     ]
    }
   ],
   "source": [
    "import mysql.connector\n",
    "testdb = mysql.connector.connect(host=\"localhost\",user = \"root\",\n",
    "password=\"abhishek7467kumar\",\n",
    "database=\"test\")\n",
    "a= testcursor.fetchone()\n",
    "for b in a:\n",
    "    print(b)\n"
   ]
  },
  {
   "cell_type": "code",
   "execution_count": 29,
   "metadata": {},
   "outputs": [
    {
     "name": "stdout",
     "output_type": "stream",
     "text": [
      "(120, 'Abhi', 'Kumar', 'Teacher', 'Bareilly', 1)\n",
      "(121, 'Jhon', 'Anthony', 'Self Employed', 'Noida', 12)\n",
      "(122, 'Ridhi', 'Jaiswal', 'Self Emp', 'barabanki', 34)\n",
      "(126, 'Kanchan', 'Kumari', 'Teacher', 'Bly', 51)\n",
      "(124, 'Ankit', 'Kumar', 'Job', 'Lucknow', 54)\n",
      "(128, 'Yogesh', 'Bharti', 'Teacher', 'Sahajanpur', 76)\n"
     ]
    }
   ],
   "source": [
    "import mysql.connector\n",
    "testdb = mysql.connector.connect(\n",
    "host=\"localhost\",\n",
    "user = \"root\",\n",
    "password=\"abhishek7467kumar\",\n",
    "database=\"test\")\n",
    "testcursor.execute(\"select * from myalumni\")\n",
    "a= testcursor.fetchall()\n",
    "for b in a:\n",
    "    print(b)\n"
   ]
  },
  {
   "cell_type": "code",
   "execution_count": 30,
   "metadata": {},
   "outputs": [
    {
     "ename": "ProgrammingError",
     "evalue": "Could not process parameters: str(1), it must be of type list, tuple or dict",
     "output_type": "error",
     "traceback": [
      "\u001b[1;31m---------------------------------------------------------------------------\u001b[0m",
      "\u001b[1;31mProgrammingError\u001b[0m                          Traceback (most recent call last)",
      "\u001b[1;32md:\\My All Programming With VS Code\\Temp\\Skill Lync\\My SQL With Data Science\\Week 12 Session 2.ipynb Cell 25\u001b[0m in \u001b[0;36m<cell line: 3>\u001b[1;34m()\u001b[0m\n\u001b[0;32m      <a href='vscode-notebook-cell:/d%3A/My%20All%20Programming%20With%20VS%20Code/Temp/Skill%20Lync/My%20SQL%20With%20Data%20Science/Week%2012%20Session%202.ipynb#X33sZmlsZQ%3D%3D?line=0'>1</a>\u001b[0m a1\u001b[39m=\u001b[39m\u001b[39m\"\u001b[39m\u001b[39mDELETE FROM myalumni where  test_id=\u001b[39m\u001b[39m%s\u001b[39;00m\u001b[39m\"\u001b[39m\n\u001b[0;32m      <a href='vscode-notebook-cell:/d%3A/My%20All%20Programming%20With%20VS%20Code/Temp/Skill%20Lync/My%20SQL%20With%20Data%20Science/Week%2012%20Session%202.ipynb#X33sZmlsZQ%3D%3D?line=1'>2</a>\u001b[0m b1\u001b[39m=\u001b[39m(\u001b[39m\"\u001b[39m\u001b[39m1\u001b[39m\u001b[39m\"\u001b[39m)\n\u001b[1;32m----> <a href='vscode-notebook-cell:/d%3A/My%20All%20Programming%20With%20VS%20Code/Temp/Skill%20Lync/My%20SQL%20With%20Data%20Science/Week%2012%20Session%202.ipynb#X33sZmlsZQ%3D%3D?line=2'>3</a>\u001b[0m testcursor\u001b[39m.\u001b[39;49mexecute(a1,b1)\n\u001b[0;32m      <a href='vscode-notebook-cell:/d%3A/My%20All%20Programming%20With%20VS%20Code/Temp/Skill%20Lync/My%20SQL%20With%20Data%20Science/Week%2012%20Session%202.ipynb#X33sZmlsZQ%3D%3D?line=4'>5</a>\u001b[0m testdb\u001b[39m.\u001b[39mcommit()\n",
      "File \u001b[1;32mc:\\Users\\ssd\\AppData\\Local\\Programs\\Python\\Python39\\lib\\site-packages\\mysql\\connector\\cursor_cext.py:263\u001b[0m, in \u001b[0;36mCMySQLCursor.execute\u001b[1;34m(self, operation, params, multi)\u001b[0m\n\u001b[0;32m    260\u001b[0m     \u001b[39mraise\u001b[39;00m ProgrammingError(\u001b[39mstr\u001b[39m(err)) \u001b[39mfrom\u001b[39;00m \u001b[39merr\u001b[39;00m\n\u001b[0;32m    262\u001b[0m \u001b[39mif\u001b[39;00m params:\n\u001b[1;32m--> 263\u001b[0m     prepared \u001b[39m=\u001b[39m \u001b[39mself\u001b[39;49m\u001b[39m.\u001b[39;49m_cnx\u001b[39m.\u001b[39;49mprepare_for_mysql(params)\n\u001b[0;32m    264\u001b[0m     \u001b[39mif\u001b[39;00m \u001b[39misinstance\u001b[39m(prepared, \u001b[39mdict\u001b[39m):\n\u001b[0;32m    265\u001b[0m         \u001b[39mfor\u001b[39;00m key, value \u001b[39min\u001b[39;00m prepared\u001b[39m.\u001b[39mitems():\n",
      "File \u001b[1;32mc:\\Users\\ssd\\AppData\\Local\\Programs\\Python\\Python39\\lib\\site-packages\\mysql\\connector\\connection_cext.py:728\u001b[0m, in \u001b[0;36mCMySQLConnection.prepare_for_mysql\u001b[1;34m(self, params)\u001b[0m\n\u001b[0;32m    726\u001b[0m             result[key] \u001b[39m=\u001b[39m \u001b[39mself\u001b[39m\u001b[39m.\u001b[39m_cmysql\u001b[39m.\u001b[39mconvert_to_mysql(value)[\u001b[39m0\u001b[39m]\n\u001b[0;32m    727\u001b[0m \u001b[39melse\u001b[39;00m:\n\u001b[1;32m--> 728\u001b[0m     \u001b[39mraise\u001b[39;00m ProgrammingError(\n\u001b[0;32m    729\u001b[0m         \u001b[39mf\u001b[39m\u001b[39m\"\u001b[39m\u001b[39mCould not process parameters: \u001b[39m\u001b[39m{\u001b[39;00m\u001b[39mtype\u001b[39m(params)\u001b[39m.\u001b[39m\u001b[39m__name__\u001b[39m\u001b[39m}\u001b[39;00m\u001b[39m(\u001b[39m\u001b[39m{\u001b[39;00mparams\u001b[39m}\u001b[39;00m\u001b[39m),\u001b[39m\u001b[39m\"\u001b[39m\n\u001b[0;32m    730\u001b[0m         \u001b[39m\"\u001b[39m\u001b[39m it must be of type list, tuple or dict\u001b[39m\u001b[39m\"\u001b[39m\n\u001b[0;32m    731\u001b[0m     )\n\u001b[0;32m    733\u001b[0m \u001b[39mreturn\u001b[39;00m result\n",
      "\u001b[1;31mProgrammingError\u001b[0m: Could not process parameters: str(1), it must be of type list, tuple or dict"
     ]
    }
   ],
   "source": [
    "a1=\"DELETE FROM myalumni where  test_id=%s\"\n",
    "b1=(\"1\")\n",
    "testcursor.execute(a1,b1)\n",
    "\n",
    "testdb.commit()\n",
    "\n",
    "\n",
    "\n"
   ]
  },
  {
   "cell_type": "code",
   "execution_count": 34,
   "metadata": {},
   "outputs": [
    {
     "name": "stdout",
     "output_type": "stream",
     "text": [
      "('Abhi',)\n",
      "('Jhon',)\n",
      "('Ridhi',)\n",
      "('Kanchan',)\n",
      "('Ankit',)\n",
      "('Yogesh',)\n"
     ]
    }
   ],
   "source": [
    "import statistics as st\n",
    "testcursor.execute(\"SELECT first_name from myalumni\")\n",
    "c=testcursor.fetchall()\n",
    "store=[]\n",
    "for b in c:\n",
    "    store.append(a)\n",
    "    print(b)\n"
   ]
  },
  {
   "cell_type": "code",
   "execution_count": null,
   "metadata": {},
   "outputs": [],
   "source": []
  }
 ],
 "metadata": {
  "kernelspec": {
   "display_name": "Python 3.9.7 64-bit",
   "language": "python",
   "name": "python3"
  },
  "language_info": {
   "codemirror_mode": {
    "name": "ipython",
    "version": 3
   },
   "file_extension": ".py",
   "mimetype": "text/x-python",
   "name": "python",
   "nbconvert_exporter": "python",
   "pygments_lexer": "ipython3",
   "version": "3.9.7"
  },
  "orig_nbformat": 4,
  "vscode": {
   "interpreter": {
    "hash": "c25b5195c020dd2b80e3f02c64d911a3e3cde8b12100cfd5f766a5948af0979e"
   }
  }
 },
 "nbformat": 4,
 "nbformat_minor": 2
}
